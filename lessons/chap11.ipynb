{
 "cells": [
  {
   "cell_type": "markdown",
   "metadata": {},
   "source": [
    "# Shelling's Agent-based model of Segregation\n",
    "This is our week 12 workbook and will be available on Github from the powderflask/cap-comp215 repository.\n",
    "\n",
    "An \"Agent\" is a persistent entity with properties and behaviours, that acts within the model.\n",
    "In this model our Agents are very simple.  They have just 2 properties: a \"type\" (e.g., Red or Blue) and a location (e.g., they occupy a cell on the grid).\n",
    "What makes this model different from the others we've examined is that these Agents can move far outside their neighbourhood.  Rather than think of the cell as have a state that changes, we think of each cell as containing an Agent (or being empty), and that Agent may move to another cell during the simulation.\n",
    "\n",
    "Schelling's model and its rules are very well described on [wikipedia](https://en.wikipedia.org/wiki/Schelling%27s_model_of_segregation)\n",
    "\n",
    "Credits:\n",
    "    Original code examples from [Think Complexity, 2nd edition](https://thinkcomplex.com).\n",
    "    Copyright 2016 Allen Downey, [MIT License](http://opensource.org/licenses/MIT)\n",
    "\n",
    "As usual, the first code block just imports the modules we will use."
   ]
  },
  {
   "cell_type": "code",
   "execution_count": 1,
   "metadata": {
    "ExecuteTime": {
     "end_time": "2024-04-05T05:42:44.254418Z",
     "start_time": "2024-04-05T05:42:43.647433Z"
    }
   },
   "outputs": [],
   "source": [
    "%matplotlib inline\n",
    "\n",
    "import random\n",
    "import time\n",
    "\n",
    "import matplotlib\n",
    "import matplotlib.pyplot as plt\n",
    "from matplotlib import animation\n",
    "import numpy as np\n",
    "from scipy.signal import correlate2d\n",
    "\n",
    "# Configure matplotlib's animation library to work in the browser.\n",
    "matplotlib.rc('animation', html='jshtml')"
   ]
  },
  {
   "cell_type": "markdown",
   "source": [
    "### Helpers\n",
    "We're starting to collect some useful re-usable bits of code - we should consider putting these in an importable module..."
   ],
   "metadata": {
    "collapsed": false
   }
  },
  {
   "cell_type": "code",
   "outputs": [],
   "source": [
    "# Define a colour map for black, red, blue.\n",
    "cmap = [(0, 0, 0), (1, 0, 0), (0, 0, 1)]\n",
    "shellings_colour_map = matplotlib.colors.ListedColormap(cmap)\n",
    "DEFAULT_IMSHOW_OPTIONS = dict(\n",
    "    cmap = shellings_colour_map,\n",
    "    interpolation='none',\n",
    "    origin='upper',\n",
    ")\n",
    "\n",
    "def plot_2D_array(array, axes=None, title='', **options):\n",
    "    \"\"\" Plot the 2D array as an image on the given axes  1's will be dark blue, 0's will be light blue. \"\"\"\n",
    "    axes = axes or plt.gca()   # If not axes are provided, draw on current axes\n",
    "    axes.set_title(title)\n",
    "    axes.set_xticks([], [])  # remove axes tick marks\n",
    "    axes.set_yticks([], [])\n",
    "    options = {**DEFAULT_IMSHOW_OPTIONS, **options}\n",
    "    axes.imshow(array, **options)"
   ],
   "metadata": {
    "collapsed": false,
    "ExecuteTime": {
     "end_time": "2024-04-05T05:42:44.258283Z",
     "start_time": "2024-04-05T05:42:44.255544Z"
    }
   },
   "execution_count": 2
  },
  {
   "cell_type": "code",
   "outputs": [],
   "source": [
    "def legend(axes=None, **options):\n",
    "    \"\"\"Draws a legend only if there is at least one labeled data series.\n",
    "\n",
    "    :param axes: the axes to add the legend to, or None to use the `plt.gca()` (current axes)\n",
    "    :param options: keyword arguments passed directly to `plt.legend()`\n",
    "           see https://matplotlib.org/api/_as_gen/matplotlib.pyplot.legend.html\n",
    "    \"\"\"\n",
    "    options = { **dict(loc=\"best\", frameon=False), **options}\n",
    "\n",
    "    ax = axes or plt.gca()\n",
    "    handles, labels = ax.get_legend_handles_labels()\n",
    "    if handles:\n",
    "        ax.legend(handles, labels, **options)"
   ],
   "metadata": {
    "collapsed": false,
    "ExecuteTime": {
     "end_time": "2024-04-05T05:42:44.261093Z",
     "start_time": "2024-04-05T05:42:44.258935Z"
    }
   },
   "execution_count": 3
  },
  {
   "cell_type": "code",
   "outputs": [],
   "source": [
    "class Animation2D:\n",
    "    \"\"\"\n",
    "      Animates any 2D model with a step() method and a draw() method, using matplotlib\n",
    "      model.step() should take no parameters - just step the model forward one step.\n",
    "      model.draw() should take 2 parameters, the matpltolib axes to draw on and an integer step number\n",
    "\n",
    "      See https://www.allendowney.com/blog/2019/07/25/matplotlib-animation-in-jupyter/\n",
    "          for a discussion of the pros and cons of various animation techniques in jupyter notebooks\n",
    "    \"\"\"\n",
    "\n",
    "    def __init__(self, model, frames=50, steps_per_frame=1, figsize=(8, 8)):\n",
    "        \"\"\"\n",
    "        :param model: the simulation object to animate, with step() and draw(axes, step) methods\n",
    "        :param frames: number of animation frames to generate\n",
    "        \"\"\"\n",
    "        self.model = model\n",
    "        self.frames = frames\n",
    "        self.steps_per_frame = steps_per_frame\n",
    "        self.fig, self.ax = plt.subplots(figsize=figsize)\n",
    "\n",
    "    def animation_step(self, step):\n",
    "        \"\"\" Step the model forward and draw the plot \"\"\"\n",
    "        if step > 0:\n",
    "            for _ in range(self.steps_per_frame):\n",
    "                self.model.step()\n",
    "        self.model.draw(self.ax, step=step*self.steps_per_frame)\n",
    "\n",
    "    def show(self):\n",
    "        \"\"\" return the matplotlib animation object, ready for display \"\"\"\n",
    "        anim = animation.FuncAnimation(self.fig, self.animation_step, frames=self.frames)\n",
    "        plt.close()  # this ensures the last frame is not shown as a separate plot\n",
    "        return anim\n",
    "\n",
    "    def animate(self, interval=None):\n",
    "        \"\"\" Animate the model simulation directly in the notebook display block \"\"\"\n",
    "        from IPython.display import clear_output\n",
    "        try:\n",
    "            for i in range(self.frames):\n",
    "                clear_output(wait=True)  # clear the IPython display\n",
    "                self.ax.clear()          # clear old image from the axes (fixes a performance issue)\n",
    "                plt.figure(self.fig)     # add the figure back to pyplot ** sigh **\n",
    "                self.animation_step(i)\n",
    "                plt.show()               # show the current animation frame (pyplot then closes and throws away figure ** sigh **)\n",
    "                if interval:\n",
    "                    time.sleep(interval)\n",
    "        except KeyboardInterrupt:\n",
    "            pass"
   ],
   "metadata": {
    "collapsed": false,
    "ExecuteTime": {
     "end_time": "2024-04-05T05:42:44.265540Z",
     "start_time": "2024-04-05T05:42:44.261703Z"
    }
   },
   "execution_count": 4
  },
  {
   "cell_type": "markdown",
   "metadata": {},
   "source": [
    "## Schelling's model"
   ]
  },
  {
   "cell_type": "markdown",
   "metadata": {},
   "source": [
    "### Helpers\n",
    "\n",
    "`locs_where` is a wrapper on `np.nonzero` that returns results as a list of tuples.\n",
    "`randomizesd` is sadly missing from random module - it generates a randomized version of a sequence.  It is the functional equivalent to \"shuffle\", which is stateful and mutates its argument."
   ]
  },
  {
   "cell_type": "code",
   "execution_count": 5,
   "metadata": {
    "ExecuteTime": {
     "end_time": "2024-04-05T05:42:44.269146Z",
     "start_time": "2024-04-05T05:42:44.266973Z"
    }
   },
   "outputs": [],
   "source": [
    "def locs_where(condition):\n",
    "    \"\"\"\n",
    "    Return list of (x,y) cell coordinates where the given array is Truthy.\n",
    "    \n",
    "    :param condition: array that is Truthy for cells whose coordinates should be included.\n",
    "    \"\"\"\n",
    "    return list(zip(*np.nonzero(condition)))\n",
    "\n",
    "\n",
    "def randomized(sequence):\n",
    "    \"\"\" Generator for a randomized version of the given sequence. \"\"\"\n",
    "    n = len(sequence)\n",
    "    for r in random.sample(range(n), n):\n",
    "        yield sequence[r]\n"
   ]
  },
  {
   "cell_type": "code",
   "outputs": [
    {
     "data": {
      "text/plain": "50"
     },
     "execution_count": 17,
     "metadata": {},
     "output_type": "execute_result"
    }
   ],
   "source": [
    "v = np.ones(10, dtype=np.int8) * 5\n",
    "np.sum(v)"
   ],
   "metadata": {
    "collapsed": false,
    "ExecuteTime": {
     "end_time": "2024-04-05T05:46:53.432667Z",
     "start_time": "2024-04-05T05:46:53.428398Z"
    }
   },
   "execution_count": 17
  },
  {
   "cell_type": "markdown",
   "metadata": {},
   "source": [
    "Here's my refactored implementation of Alan Downey's Schelling model:"
   ]
  },
  {
   "cell_type": "code",
   "outputs": [],
   "source": [
    "class Schelling:\n",
    "    \"\"\"A grid of Schelling agents and the rules to simulate Schelling's model with them.\"\"\"\n",
    "    \n",
    "    # The \"types\" of Agent \"living\" in each cell.\n",
    "    EMPTY = 0\n",
    "    RED = 1\n",
    "    BLUE = 2\n",
    "\n",
    "    kernel = np.array([[1, 1, 1],\n",
    "                       [1, 0, 1],\n",
    "                       [1, 1, 1]], dtype=np.int8)\n",
    "    \n",
    "    def __init__(self, n, p, proportion_empty=0.1):\n",
    "        \"\"\"\n",
    "        :param n: grid size:  n X n\n",
    "        :param p: tolerance threshold - Agents with fraction of similar neighbors < p will move\n",
    "        :param proportion_empty: the approx. proportion of the grid that are empty cells.\n",
    "        \"\"\"\n",
    "        self.p = p\n",
    "        \n",
    "        proportion_per_agent_type = (1 - proportion_empty) / 2  # distribute remainder among agent types\n",
    "        probs = [proportion_empty, proportion_per_agent_type, proportion_per_agent_type]\n",
    "        self.state = np.random.choice([self.EMPTY, self.RED, self.BLUE], (n, n), p=probs)\n",
    "   \n",
    "    def occupied_neighbours_count(self, occupied):\n",
    "        \"\"\" \n",
    "        Return int array, sized same as occupied, \n",
    "            with a count of number of occupied neighbours for occupied cells.\n",
    "    \n",
    "        :param occupied: a boolean or 0/1 valued array where 1 is considered \"occupied\"\n",
    "        Only occupied cells will have a neighborhood count, empty cells have a count of zero.\n",
    "        \"\"\"\n",
    "        neighbour_count = correlate2d(occupied, self.kernel, mode='same', boundary='wrap')\n",
    "        # Zero out unoccupied cells so we only return neighbourhood counts for occupied cells\n",
    "        return neighbour_count * occupied # Note: `*` with bool array is an 'and' operation\n",
    "    \n",
    "    def fraction_neighbours_similar(self):\n",
    "        \"\"\"\n",
    "        Return float array, sized same as state, \n",
    "           with the fraction of neighbours that share a cell's value, or 0 for cells with no neighbours\n",
    "        \"\"\"\n",
    "        num_red = self.occupied_neighbours_count(self.state == self.RED)\n",
    "        num_blue = self.occupied_neighbours_count(self.state == self.BLUE)\n",
    "        neighbour_count = self.occupied_neighbours_count(self.state != self.EMPTY)\n",
    "        # return (num_red + num_blue) / neighbour_count  \n",
    "        #     !! HA - except we need handle divide-by zero !!\n",
    "        # ignore divide-by-zero for the division, then fix it up... \n",
    "        #   where the neighbour count is zero (e.g. empty cells), arbitrarily set the fraction to zero \n",
    "        with np.errstate(invalid='ignore'):\n",
    "            fraction = (num_red + num_blue) / neighbour_count\n",
    "            return np.where(neighbour_count==0, 0, fraction)\n",
    " \n",
    "    def segregation(self):\n",
    "        \"\"\" Return the average fraction of similar neighbors, averaged over entire grid. \"\"\"\n",
    "        return np.mean(self.fraction_neighbours_similar())\n",
    "    \n",
    "    def alt_move_agents(self, agents):\n",
    "        \"\"\" \n",
    "        Move all the given agents to empty cells in the grid, leaving their cells empty in return \n",
    "        \n",
    "        :param agents: array, same shape as self.state, with agents looking for a new home\n",
    "        \"\"\"\n",
    "        # Shuffle the moving agents and the empty cells into a single, randomized vector\n",
    "        n_empty = np.sum(self.state == self.EMPTY) \n",
    "        n_red = np.sum(agents == self.RED)\n",
    "        n_blue = np.sum(agents == self.BLUE)\n",
    "        moving = np.concatenate((\n",
    "            np.ones(n_empty) * self.EMPTY,\n",
    "            np.ones(n_red) * self.RED,\n",
    "            np.ones(n_blue) * self.BLUE\n",
    "        ))\n",
    "        np.random.shuffle(moving)\n",
    "        \n",
    "        # they all pack up and leave...\n",
    "        self.state[agents!=self.EMPTY] = self.EMPTY  \n",
    "        # ... and we assign them a new home\n",
    "        self.state[self.state==self.EMPTY] = moving\n",
    " \n",
    "    def move_agents(self, agents):\n",
    "        \"\"\" \n",
    "        Move all the given agents to empty cells in the grid, leaving their cells empty in return \n",
    "        \n",
    "        :param agents: list of (x, y) locations of agents to be moved to empty cells\n",
    "        \"\"\"       \n",
    "        empty = self.state == self.EMPTY\n",
    "        empty_locs = locs_where(empty)  # list of (x, y) grid coordinates for pool of empty cells\n",
    "        empty_loc_indexes = range(len(empty_locs))  # we'll need these - pre-compute them\n",
    "        \n",
    "        # move each agent to a random empty destination, leaving its former cell empty for someone else\n",
    "        #    - randomize the order in which agents are moved to avoid bias in their ordering         \n",
    "        for agent_loc in randomized(agents):\n",
    "            assert self.state[agent_loc] != self.EMPTY  # validate input (fail-fast in case of a bugs)\n",
    "            # pick a random location (awkwardly b/c we need its index to replace it after the move)\n",
    "            i = random.choice(empty_loc_indexes)\n",
    "            dest = empty_locs[i]\n",
    "            # move the agent to dest, leaving its original location empty\n",
    "            self.state[dest], self.state[agent_loc] = self.state[agent_loc], self.EMPTY\n",
    "            # replace the now-filled location with the agent's old now-empty location.\n",
    "            empty_locs[i] = agent_loc  \n",
    "\n",
    "        # verify this did not change then number of empty cells (fail fast in case of bugs)\n",
    "        assert np.sum(empty) == np.sum(self.state == self.EMPTY)\n",
    "\n",
    "    def step(self):\n",
    "        \"\"\"\n",
    "        Execute one model time step.\n",
    "                \n",
    "        returns: current segregation value, i.e., the fraction of similar neighbors, averaged over entire grid\n",
    "        \"\"\"\n",
    "        # boolean masks for all the agent locations and all locations where the % similar neighbours is too low\n",
    "        agent_locs = self.state != self.EMPTY\n",
    "        below_threshold = self.fraction_neighbours_similar() < self.p\n",
    " \n",
    "        # get (x, y) coordinators of the unhappy agents and move them to empty cells\n",
    "        # unhappy_agents = locs_where(agent_locs * below_threshold)\n",
    "        # self.move_agents(unhappy_agents)\n",
    "        unhappy_agents = self.state * below_threshold\n",
    "        self.alt_move_agents(unhappy_agents)  \n",
    "        \n",
    "        # return the new segregation value (average fraction of similar neighbours)\n",
    "        return self.segregation()\n",
    "        \n",
    "    def draw(self, axes=None, step=''):\n",
    "        \"\"\"Draws the cells on given axes.\"\"\"\n",
    "        axes = axes or plt.gca()  # use current axes if none are provided.\n",
    "        plot_2D_array(self.state, axes,  title=f'Shelling @ step {step}')"
   ],
   "metadata": {
    "collapsed": false,
    "ExecuteTime": {
     "end_time": "2024-04-05T05:51:53.720373Z",
     "start_time": "2024-04-05T05:51:53.708979Z"
    }
   },
   "execution_count": 25
  },
  {
   "cell_type": "markdown",
   "metadata": {},
   "source": [
    "Here's a small example."
   ]
  },
  {
   "cell_type": "code",
   "execution_count": 26,
   "metadata": {
    "ExecuteTime": {
     "end_time": "2024-04-05T05:51:55.337150Z",
     "start_time": "2024-04-05T05:51:55.297011Z"
    }
   },
   "outputs": [
    {
     "data": {
      "text/plain": "0.47827380952380955"
     },
     "execution_count": 26,
     "metadata": {},
     "output_type": "execute_result"
    },
    {
     "data": {
      "text/plain": "<Figure size 640x480 with 1 Axes>",
      "image/png": "[encoded data removed]"
     },
     "metadata": {},
     "output_type": "display_data"
    }
   ],
   "source": [
    "model = Schelling(n=10, p=0.3)\n",
    "model.draw(step=0)\n",
    "model.segregation()"
   ]
  },
  {
   "cell_type": "markdown",
   "metadata": {},
   "source": [
    "And here's an animation for a bigger example.\n",
    "The degree of segregation increases quickly."
   ]
  },
  {
   "cell_type": "code",
   "execution_count": 28,
   "metadata": {},
   "outputs": [
    {
     "data": {
      "text/plain": "<Figure size 800x800 with 1 Axes>",
      "image/png": "[encoded data removed]"
     },
     "metadata": {},
     "output_type": "display_data"
    }
   ],
   "source": [
    "model = Schelling(n=100, p=0.5)\n",
    "anim = Animation2D(model, frames=60)\n",
    "anim.animate()"
   ]
  },
  {
   "cell_type": "markdown",
   "metadata": {},
   "source": [
    "The following figure shows the process after a few steps."
   ]
  },
  {
   "cell_type": "code",
   "execution_count": 29,
   "metadata": {
    "ExecuteTime": {
     "end_time": "2024-04-05T05:52:11.844151Z",
     "start_time": "2024-04-05T05:52:11.653292Z"
    }
   },
   "outputs": [
    {
     "data": {
      "text/plain": "<Figure size 2400x800 with 3 Axes>",
      "image/png": "[encoded data removed]"
     },
     "metadata": {},
     "output_type": "display_data"
    }
   ],
   "source": [
    "model = Schelling(n=100, p=0.5)\n",
    "\n",
    "_, ax = plt.subplots(1, 3, figsize=(24, 8))\n",
    "model.draw(ax[0], step=0) \n",
    "\n",
    "draw_at = (0, 4, 16)\n",
    "\n",
    "for step in range(1, draw_at[-1]+1):\n",
    "    model.step()\n",
    "    if step in draw_at:\n",
    "        model.draw(ax[draw_at.index(step)], step=step) "
   ]
  },
  {
   "cell_type": "markdown",
   "metadata": {},
   "source": [
    "And here's how segregation in steady state relates to `p`, the threshold on the fraction of similar neighbors."
   ]
  },
  {
   "cell_type": "code",
   "execution_count": null,
   "metadata": {
    "tags": [],
    "ExecuteTime": {
     "end_time": "2024-04-05T05:42:44.918394Z",
     "start_time": "2024-04-05T05:42:44.918343Z"
    }
   },
   "outputs": [],
   "source": [
    "_, ax = plt.subplots(figsize=(6, 6), layout='tight') \n",
    "ax.set(\n",
    "    title=f'Segregation levels for various values of p',\n",
    "    xlabel='Time steps', \n",
    "    ylabel='Segregation',\n",
    "    ylim=[0, 1]\n",
    ")\n",
    "\n",
    "for p in [0.5, 0.4, 0.3, 0.2]:\n",
    "    model = Schelling(n=100, p=p)\n",
    "    segregation_values = [model.step() for i in range(12)]\n",
    "    ax.plot(segregation_values, label='p = %.1f' % p)\n",
    "    print(p, segregation_values[-1])\n",
    "\n",
    "\n",
    "legend(axes=ax, loc='lower right')\n",
    "plt.show()"
   ]
  },
  {
   "cell_type": "markdown",
   "metadata": {},
   "source": [
    "At `p=0.3`, there is a striking difference between the level that would make people happy, at only 30%, and the level they actually get, around 75%."
   ]
  },
  {
   "cell_type": "markdown",
   "metadata": {},
   "source": [
    "**Exercise:** Experiment with different starting conditions: for example, more or fewer empty cells, or unequal numbers of red and blue agents."
   ]
  }
 ],
 "metadata": {
  "kernelspec": {
   "name": "python3",
   "language": "python",
   "display_name": "Python 3 (ipykernel)"
  },
  "language_info": {
   "codemirror_mode": {
    "name": "ipython",
    "version": 3
   },
   "file_extension": ".py",
   "mimetype": "text/x-python",
   "name": "python",
   "nbconvert_exporter": "python",
   "pygments_lexer": "ipython3",
   "version": "3.8.3-final"
  }
 },
 "nbformat": 4,
 "nbformat_minor": 2
}
